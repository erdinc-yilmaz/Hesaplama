{
  "nbformat": 4,
  "nbformat_minor": 0,
  "metadata": {
    "colab": {
      "provenance": [],
      "authorship_tag": "ABX9TyPtpy9iekaqKNFI0Pk+ckln",
      "include_colab_link": true
    },
    "kernelspec": {
      "name": "python3",
      "display_name": "Python 3"
    },
    "language_info": {
      "name": "python"
    }
  },
  "cells": [
    {
      "cell_type": "markdown",
      "metadata": {
        "id": "view-in-github",
        "colab_type": "text"
      },
      "source": [
        "<a href=\"https://colab.research.google.com/github/erdinc-yilmaz/Hesaplama/blob/main/Dik_ucgen_hesaplama2.ipynb\" target=\"_parent\"><img src=\"https://colab.research.google.com/assets/colab-badge.svg\" alt=\"Open In Colab\"/></a>"
      ]
    },
    {
      "cell_type": "code",
      "execution_count": 1,
      "metadata": {
        "colab": {
          "base_uri": "https://localhost:8080/",
          "height": 594
        },
        "id": "yA0ecqYMRYDN",
        "outputId": "74045032-60cf-4eef-dacd-a12e870d0e91"
      },
      "outputs": [
        {
          "output_type": "stream",
          "name": "stdout",
          "text": [
            "AC kenar uzunluğunu girin: 3\n",
            "AB kenar uzunluğunu girin: 5\n",
            "C açısı (Alpha) (derece): 59.0 °\n",
            "B açısı (Beta) (derece): 31.0 °\n",
            "A açısı (Gamma) (derece): 90.0 °\n",
            "Hipotenüs BC kenarı =  5.83\n",
            "Alan =  16.00\n",
            "Çevre =  13.83\n"
          ]
        },
        {
          "output_type": "display_data",
          "data": {
            "text/plain": [
              "<Figure size 640x480 with 1 Axes>"
            ],
            "image/png": "[encoded data removed]"
          },
          "metadata": {}
        }
      ],
      "source": [
        "# -*- coding: utf-8 -*-\n",
        "\"\"\"\n",
        "Created on Mon Feb 26 22:24:39 2024\n",
        "\n",
        "@author: Erdinç (digitalistan)\n",
        "\"\"\"\n",
        "\n",
        "import matplotlib.pyplot as plt\n",
        "import numpy as np\n",
        "\n",
        "while True:\n",
        "    try:\n",
        "        AC = int(input(\"AC kenar uzunluğunu girin: \"))\n",
        "        if AC < 3 or AC > 10:\n",
        "            print(\"Lütfen 3 ile 10 arasında bir tamsayı girin.\")\n",
        "            continue  # Giriş değeri uygun değilse döngünün başına geri dön\n",
        "        break  # Giriş değeri uygunsa döngüden çık\n",
        "    except ValueError:\n",
        "        print(\"Geçersiz giriş. Lütfen bir tamsayı girin.\")\n",
        "\n",
        "while True:\n",
        "    try:\n",
        "        AB = int(input(\"AB kenar uzunluğunu girin: \"))\n",
        "        if AB < 3 or AB > 10:\n",
        "            print(\"Lütfen 3 ile 10 arasında bir tamsayı girin.\")\n",
        "            continue  # Giriş değeri uygun değilse döngünün başına geri dön\n",
        "        break  # Giriş değeri uygunsa döngüden çık\n",
        "    except ValueError:\n",
        "        print(\"Geçersiz giriş. Lütfen bir tamsayı girin.\")\n",
        "\n",
        "\n",
        "\n",
        "# En büyük değeri bul\n",
        "en_buyuk = max(AC, AB)\n",
        "\n",
        "# Veri oluştur\n",
        "# x değerlerini oluştur\n",
        "x = [i for i in range(en_buyuk + 1)]  # 0'dan A'ya kadar olan sayıları içeren liste\n",
        "\n",
        "# Veri oluştur\n",
        "# x değerlerini oluştur\n",
        "y = [i for i in range(en_buyuk + 1)]  # 0'dan A'ya kadar olan sayıları içeren liste\n",
        "\n",
        "X_AC_kenari = [0, 0] # AC_nin_X_koordinati_uzerindeki_noktalari\n",
        "Y_AC_kenari = [0, AC] # AC_nin_Y_koordinati_uzerindeki_noktalari\n",
        "\n",
        "X_AB_kenari = [0, AB] # AB_nin_X_koordinati_uzerindeki_noktalari\n",
        "Y_AB_kenari = [0, 0] # AB_nin_Y_koordinati_uzerindeki_noktalari\n",
        "\n",
        "X_BC_kenari = [AB, 0] # BC_nin_X_koordinati_uzerindeki_noktalari\n",
        "Y_BC_kenari = [0, AC] # BC_nin_Y_koordinati_uzerindeki_noktalari\n",
        "\n",
        "BC = np.sqrt(AB**2 + AC**2)\n",
        "\n",
        "# Çizim yap\n",
        "plt.plot(X_AC_kenari, Y_AC_kenari, color='blue')  # Grafik çizgisi AC\n",
        "plt.plot(X_AB_kenari, Y_AB_kenari, color='red')  # Grafik çizgisi AB\n",
        "plt.plot(X_BC_kenari, Y_BC_kenari, color='green')  # Grafik çizgisi BC\n",
        "\n",
        "\n",
        "# Eksenlerin uzunluğunun bir birim büyük olması\n",
        "en_buyuk_arti1 = en_buyuk+1\n",
        "\n",
        "# Eksenleri ayarla\n",
        "plt.xlim(-1, en_buyuk_arti1)  # X ekseni sınırlarını ayarla\n",
        "plt.ylim(-1, en_buyuk_arti1)  # Y ekseni sınırlarını ayarla\n",
        "\n",
        "# Eksen etiketlerini ekle\n",
        "plt.xlabel('X Ekseni', color=\"0.5\")\n",
        "plt.ylabel('Y Ekseni', color=\"0.5\")\n",
        "\n",
        "# Grid ekleyerek arka planı düzenle\n",
        "plt.grid(True, linewidth=0.5)  # Koordinat çizgileri kalınlığı\n",
        "\n",
        "# Eksenlerin üzerindeki sayıların rengini değiştir\n",
        "plt.gca().tick_params(axis='x', colors='0.5')  # X eksenindeki sayıların rengi\n",
        "plt.gca().tick_params(axis='y', colors='0.5')  # Y eksenindeki sayıların rengi\n",
        "\n",
        "# Eksenlerin eşit ölçekli olmasını sağla\n",
        "plt.gca().set_aspect('equal')\n",
        "\n",
        "\n",
        "# Açıları hesapla\n",
        "alpha = np.arccos((AC**2 + BC**2 - AB**2) / (2 * AC * BC))\n",
        "beta = np.arccos((AB**2 + BC**2 - AC**2) / (2 * AB * BC))\n",
        "gamma = np.arccos((AB**2 + AC**2 - BC**2) / (2 * AB * AC))\n",
        "\n",
        "\n",
        "# Dereceye çevirip yazdır\n",
        "print(\"C açısı (Alpha) (derece):\", np.round(np.degrees(alpha)),\"°\") # sayılar üste veya alta yuvarlandı.\n",
        "print(\"B açısı (Beta) (derece):\", np.round(np.degrees(beta)),\"°\") # sayılar üste veya alta yuvarlandı.\n",
        "print(\"A açısı (Gamma) (derece):\", np.round(np.degrees(gamma)),\"°\") # sayılar üste veya alta yuvarlandı.\n",
        "\n",
        "print(f\"Hipotenüs BC kenarı = {BC: .2f}\")\n",
        "\n",
        "# Ölçüleri eksenlere göre yazılması\n",
        "plt.text(0-0.3, AC/2, f\"AC = b = {AC}\", rotation=90, ha=\"center\", va=\"center\", fontsize=8, color=\"blue\") # X ekseni etiketi yazılması\n",
        "plt.text(AB/2, 0-0.4, f\"AB = c = {AB}\", rotation=0, ha=\"center\", va=\"center\", fontsize=8, color=\"red\") # Y ekseni etiketi yazılması\n",
        "plt.text((BC/2)*1.1, (AC/2)*1.1, f\"BC = a = {BC: .2f}\", rotation=360-np.degrees(beta), ha=\"center\", va=\"center\", fontsize=8, color=\"green\") # XY ekseni etiketi yazılması\n",
        "\n",
        "# Kenar noktalarını eksenlere göre yazılması\n",
        "plt.text(0-0.3, 0-0.3, \"A\", ha=\"center\", va=\"center\", fontsize=8, color=\"blue\") # X ekseni A noktası etiketi yazılması\n",
        "plt.text(AB+0.3, 0-0.3, \"B\", ha=\"center\", va=\"center\", fontsize=8, color=\"red\") # X ekseni B noktası etiketi yazılması\n",
        "plt.text(0-0.3, AC+0.3, \"C\", ha=\"center\", va=\"center\", fontsize=8, color=\"green\") # X ekseni C noktası etiketi yazılması\n",
        "\n",
        "# Açı değerlerinin üçgen içine eksenlere yuvarlanarak noktasız yazılması\n",
        "plt.text(0+0.5, 0+0.5, f\"{int(np.round(np.degrees(gamma)))} °\", ha=\"center\", va=\"center\", fontsize=7.5,) # A açısı etiketi yazılması\n",
        "plt.text(AB*0.7, 0+0.5, f\"{int(np.round(np.degrees(beta)))} °\", ha=\"center\", va=\"center\", fontsize=7.5,) # B açısı etiketi yazılması\n",
        "plt.text(0+0.5, AC*0.8, f\"{int(np.round(np.degrees(alpha)))} °\", ha=\"center\", va=\"center\", fontsize=7.5,) # C açısı etiketi yazılması\n",
        "\n",
        "# Alanı hesapla\n",
        "Alan = (AB + AC) * 2\n",
        "print(f\"Alan = {Alan: .2f}\")\n",
        "\n",
        "# Çevreyi hesapla\n",
        "Çevre = AB + AC + BC\n",
        "print(f\"Çevre = {Çevre: .2f}\")\n",
        "\n",
        "# Alan ve Çevrenin X, Y eksenine yazılması\n",
        "plt.text(en_buyuk-0.5, en_buyuk, f\"Alan = {Alan: .2f}\", ha=\"center\", va=\"center\", fontsize=8) # X ekseni etiketi yazılması\n",
        "plt.text(en_buyuk-0.5, en_buyuk-1, f\"Çevre = {Çevre: .2f}\", ha=\"center\", va=\"center\", fontsize=8) # X ekseni etiketi yazılması\n",
        "\n",
        "\n",
        "# Grafiği göster\n",
        "plt.show()\n",
        "\n",
        "\n"
      ]
    }
  ]
}